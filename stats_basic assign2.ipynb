{
 "cells": [
  {
   "cell_type": "markdown",
   "id": "469d2a64-f129-41c3-911f-9c0c4d15cbab",
   "metadata": {},
   "source": [
    "ASSIGNMENT -2 STATS BASIC\n"
   ]
  },
  {
   "cell_type": "code",
   "execution_count": null,
   "id": "c64fd553-b442-4e16-8df6-914ac5b0812b",
   "metadata": {
    "jupyter": {
     "source_hidden": true
    },
    "tags": []
   },
   "outputs": [],
   "source": [
    "Q1. What are the three measures of central tendency?\n",
    "\n",
    "The three measures of central tendency are:\n",
    "\n",
    "Mean: The mean, often referred to as the average, is calculated by summing up all the values in a dataset and dividing by the total number of values.\n",
    "It represents the \"center\" of the data distribution.\n",
    "\n",
    "Median: The median is the middle value in a dataset when the values are arranged in ascending or descending order. \n",
    "If there is an even number of values, the median is the average of the two middle values. \n",
    "The median represents the value that separates the higher half from the lower half of the data.\n",
    "\n",
    "Mode: The mode is the value that appears most frequently in a dataset. \n",
    "A dataset may have one mode (unimodal), two modes (bimodal), or more (multimodal).\n",
    "If no value appears more than once, the dataset is considered to have no mode."
   ]
  },
  {
   "cell_type": "code",
   "execution_count": null,
   "id": "2632409b-ed1c-413a-b6d9-9f01c8a376c8",
   "metadata": {},
   "outputs": [],
   "source": [
    "Q2. What is the difference between the mean, median, and mode? How are they used to measure the\n",
    "central tendency of a dataset?\n",
    "\n",
    "Mean, median, and mode are three measures of central tendency used to describe the typical or central value of a dataset.\n",
    "Here's how they differ and how they are used:\n",
    "\n",
    "Mean:\n",
    "\n",
    "The mean, also known as the average, is calculated by summing up all the values in a dataset and then dividing by the total number of values.\n",
    "It is sensitive to extreme values, also known as outliers, because it takes into account every value in the dataset.\n",
    "The formula for calculating the mean is: Mean = (Sum of all values) / (Number of values).\n",
    "The mean is commonly used when the dataset is normally distributed or symmetrically distributed.\n",
    "\n",
    "Median:\n",
    "\n",
    "The median is the middle value in a dataset when the values are arranged in ascending or descending order.\n",
    "If the dataset has an odd number of values, the median is the middle value. \n",
    "If the dataset has an even number of values, the median is the average of the two middle values.\n",
    "The median is less affected by extreme values compared to the mean, making it more robust in the presence of outliers.\n",
    "It is particularly useful when the dataset contains outliers or when the distribution is skewed.\n",
    "\n",
    "Mode:\n",
    "\n",
    "The mode is the value that appears most frequently in a dataset.\n",
    "Unlike the mean and median, the mode can be applied to categorical data as well as numerical data.\n",
    "A dataset may have one mode (unimodal), two modes (bimodal), or more than two modes (multimodal), or it may have no mode if no value repeats.\n",
    "The mode is especially useful when dealing with categorical data or when identifying the most common value in a dataset.\n",
    "To summarize, mean, median, and mode each offer a different perspective on the central tendency of a dataset:\n",
    "\n",
    "The mean provides a measure of the average value and is suitable for symmetrically distributed data without significant outliers.\n",
    "The median gives the middle value and is robust to outliers, making it appropriate for skewed distributions or datasets with extreme values.\n",
    "The mode identifies the most frequently occurring value(s) and is useful for identifying common values in a dataset, especially in categorical data"
   ]
  },
  {
   "cell_type": "code",
   "execution_count": 2,
   "id": "8309d696-17ea-4616-91e5-f27c67a53b18",
   "metadata": {},
   "outputs": [
    {
     "name": "stdout",
     "output_type": "stream",
     "text": [
      "Mean = 37.0\n",
      "Median = 34.0\n",
      "Mode = ModeResult(mode=array([12]), count=array([2]))\n"
     ]
    },
    {
     "name": "stderr",
     "output_type": "stream",
     "text": [
      "/tmp/ipykernel_126/1582053572.py:12: FutureWarning: Unlike other reduction functions (e.g. `skew`, `kurtosis`), the default behavior of `mode` typically preserves the axis it acts along. In SciPy 1.11.0, this behavior will change: the default value of `keepdims` will become False, the `axis` over which the statistic is taken will be eliminated, and the value None will no longer be accepted. Set `keepdims` to True or False to avoid this warning.\n",
      "  p=stats.mode(Age)\n"
     ]
    }
   ],
   "source": [
    "\n",
    "'''  eg.\n",
    "Suppose we have data of a locality where ages are provided now we have to calc mean ,median ,mode of that dataset.\n",
    "Age = [12,21,33,45,67,45,67,82,12,5,34,22,36]\n",
    "'''\n",
    "Age = [12,21,33,45,67,45,67,82,12,5,34,22,36]\n",
    "\n",
    "import numpy as np\n",
    "from scipy import stats\n",
    "m=np.mean(Age)\n",
    "print(\"Mean =\",m)\n",
    "n=np.median(Age)\n",
    "print(\"Median =\",n)\n",
    "p=stats.mode(Age)\n",
    "print(\"Mode =\",p)"
   ]
  },
  {
   "cell_type": "code",
   "execution_count": 5,
   "id": "21d74528-c926-4428-a484-a24967bfed28",
   "metadata": {},
   "outputs": [
    {
     "name": "stdout",
     "output_type": "stream",
     "text": [
      "Mean = 177.01875\n",
      "Median = 177.0\n",
      "Mode = ModeResult(mode=array([177.]), count=array([3]))\n"
     ]
    },
    {
     "name": "stderr",
     "output_type": "stream",
     "text": [
      "/tmp/ipykernel_126/148244128.py:12: FutureWarning: Unlike other reduction functions (e.g. `skew`, `kurtosis`), the default behavior of `mode` typically preserves the axis it acts along. In SciPy 1.11.0, this behavior will change: the default value of `keepdims` will become False, the `axis` over which the statistic is taken will be eliminated, and the value None will no longer be accepted. Set `keepdims` to True or False to avoid this warning.\n",
      "  p=stats.mode(height)\n"
     ]
    }
   ],
   "source": [
    "'''\n",
    "Q3. Measure the three measures of central tendency for the given height data:\n",
    "[178,177,176,177,178.2,178,175,179,180,175,178.9,176.2,177,172.5,178,176.5]\n",
    "'''\n",
    "height = [178,177,176,177,178.2,178,175,179,180,175,178.9,176.2,177,172.5,178,176.5]\n",
    "import numpy as np\n",
    "from scipy import stats\n",
    "m=np.mean(height)\n",
    "print(\"Mean =\",m)\n",
    "n=np.median(height)\n",
    "print(\"Median =\",n)\n",
    "p=stats.mode(height)\n",
    "print(\"Mode =\",p)"
   ]
  },
  {
   "cell_type": "code",
   "execution_count": 6,
   "id": "2cd12b03-73ba-46ee-ba32-300202397968",
   "metadata": {},
   "outputs": [
    {
     "data": {
      "text/plain": [
       "1.7885814036548633"
      ]
     },
     "execution_count": 6,
     "metadata": {},
     "output_type": "execute_result"
    }
   ],
   "source": [
    "'''\n",
    "Q4. Find the standard deviation for the given data:\n",
    "[178,177,176,177,178.2,178,175,179,180,175,178.9,176.2,177,172.5,178,176.5]\n",
    "'''\n",
    "x = [178,177,176,177,178.2,178,175,179,180,175,178.9,176.2,177,172.5,178,176.5]\n",
    "import numpy as np\n",
    "np.std(x)\n"
   ]
  },
  {
   "cell_type": "markdown",
   "id": "af9e35b4-3ddc-4b88-be65-1ba49d3b27b1",
   "metadata": {},
   "source": [
    "Q5. How are measures of dispersion such as range, variance, and standard deviation used to describe\n",
    "the spread of a dataset? Provide an example.\n",
    "\n",
    "Measures of dispersion, including range, variance, and standard deviation, are used to describe the spread or variability of a dataset.\n",
    "Here's how each of them works and how they are used:\n",
    "\n",
    "Range:\n",
    "\n",
    "The range is the simplest measure of dispersion and is calculated as the difference between the maximum and minimum values in the dataset.\n",
    "It provides a quick indication of the spread of the data but is sensitive to extreme values.\n",
    "Formula: Range = Maximum value - Minimum value.\n",
    "Variance:\n",
    "\n",
    "Variance measures the average squared deviation of each data point from the mean of the dataset.\n",
    "It quantifies the spread of the data points around the mean.\n",
    "Formula: Variance = Σ((x - μ)²) / n, where x is each data point, μ is the mean, and n is the number of data points.\n",
    "Since variance is in squared units, it's not as intuitive to interpret as the standard deviation.\n",
    "Standard Deviation:\n",
    "\n",
    "Standard deviation is a measure of the dispersion of data points around the mean. It indicates how much the data points deviate from the mean on average.\n",
    "It is the square root of the variance and is expressed in the same units as the data.\n",
    "Formula: Standard Deviation = √(Σ((x - μ)²) / n).\n",
    "Standard deviation is widely used because it provides a measure of dispersion that is easier to interpret compared to variance.\n",
    "Example:\n",
    "Suppose we have a dataset representing the monthly sales (in thousands of dollars) of a company for the past year: [20, 25, 30, 35, 40].\n",
    "We'll calculate the range, variance, and standard deviation for this dataset:\n",
    "\n",
    "Range:\n",
    "Range = Maximum value - Minimum value\n",
    "Range = 40 - 20\n",
    "Range = 20\n",
    "\n",
    "Variance:\n",
    "First, calculate the mean (μ):\n",
    "Mean = (20 + 25 + 30 + 35 + 40) / 5\n",
    "= 30\n",
    "Then, calculate the variance:\n",
    "Variance = ( (20 - 30)² + (25 - 30)² + (30 - 30)² + (35 - 30)² + (40 - 30)² ) / 5\n",
    "= (100 + 25 + 0 + 25 + 100) / 5\n",
    "= 50\n",
    "\n",
    "Standard Deviation:\n",
    "Standard Deviation = √(Variance)\n",
    "= √(50)\n",
    "≈ 7.07\n",
    "\n",
    "So, for this dataset:\n",
    "\n",
    "The range is 20.\n",
    "The variance is 50.\n",
    "The standard deviation is approximately 7.07 thousand dollars.\n",
    "These measures help to understand the spread or variability of the monthly sales data."
   ]
  },
  {
   "cell_type": "markdown",
   "id": "5bbedac5-a5de-489b-9a80-b6e57078f33b",
   "metadata": {},
   "source": [
    "ANOTHER EXAMPLE USING PYTHON :"
   ]
  },
  {
   "cell_type": "code",
   "execution_count": 7,
   "id": "2790e6e5-a06c-4b5d-ba6c-028d0fbcee70",
   "metadata": {},
   "outputs": [
    {
     "name": "stdout",
     "output_type": "stream",
     "text": [
      "Variance = 129.91666666666666\n",
      "Standard deviation = 129.91666666666666\n"
     ]
    }
   ],
   "source": [
    "age= [20, 30, 34, 56, 34, 45]\n",
    "import numpy as np\n",
    "n=np.var(age)\n",
    "m=np.std(age)\n",
    "print(\"Variance =\",n)\n",
    "print(\"Standard deviation =\",n)"
   ]
  },
  {
   "cell_type": "markdown",
   "id": "bd0edc24-5a55-49e3-94be-2786c9e7a92c",
   "metadata": {},
   "source": [
    "Q6. What is a Venn diagram?\n",
    "\n",
    "A Venn diagram is a visual tool used to compare and contrast two or more objects, events, people, or concepts.\n",
    "It uses overlapping circles or other shapes to illustrate the logical relationships between two or more sets of items.\n",
    "Circles that overlap have a commonality while circles that do not overlap do not share those traits.\n",
    "Venn diagrams are often used in language arts and math classes to organize differences and similarities.\n",
    "\n",
    "For example, in a simple Venn diagram representing the sets of mammals and animals, the circle representing mammals might include elements \n",
    "such as \"dog,\" \"cat,\" and \"elephant,\" while the circle representing animals might include elements such as \"dog,\" \"cat,\" \"elephant,\" and \"bird.\"\n",
    "The overlapping area between the circles would contain elements that belong to both sets, such as \"dog\" and \"cat,\" \n",
    "representing mammals that are also animals."
   ]
  },
  {
   "cell_type": "code",
   "execution_count": 8,
   "id": "b19b15d5-1838-4459-b0a6-34015968176c",
   "metadata": {},
   "outputs": [
    {
     "name": "stdout",
     "output_type": "stream",
     "text": [
      "array1  [2 3 4 5 6 7]\n",
      "array2  [ 0  2  6  8 10]\n",
      "Union of two arrays : [ 0  2  3  4  5  6  7  8 10]\n"
     ]
    }
   ],
   "source": [
    "'''\n",
    "Q7. For the two given sets A = (2,3,4,5,6,7) & B = (0,2,6,8,10). Find:\n",
    "(i) A intersection B\n",
    "(ii) A ⋃ B\n",
    "'''\n",
    "\n",
    "\n",
    "import numpy as np\n",
    "A = np.array([2,3,4,5,6,7])\n",
    "print(\"array1 \", A)\n",
    "B = np.array([0,2,6,8,10])\n",
    "print(\"array2 \", B)\n",
    "# print union of the two arrays\n",
    "print(\"Union of two arrays :\", np.union1d(A,B))"
   ]
  },
  {
   "cell_type": "code",
   "execution_count": 9,
   "id": "decc9a0e-b13a-485f-91b1-8271d7dd4a7d",
   "metadata": {},
   "outputs": [
    {
     "name": "stdout",
     "output_type": "stream",
     "text": [
      "array1  [2 3 4 5 6 7]\n",
      "array2  [ 0  2  6  8 10]\n",
      "intersection of two arrays : [2 6]\n"
     ]
    }
   ],
   "source": [
    "import numpy as np\n",
    "A = np.array([2,3,4,5,6,7])\n",
    "print(\"array1 \", A)\n",
    "B = np.array([0,2,6,8,10])\n",
    "print(\"array2 \", B)\n",
    "# print intersection of the two arrays\n",
    "print(\"intersection of two arrays :\", np.intersect1d(A,B))"
   ]
  },
  {
   "cell_type": "markdown",
   "id": "527958e3-8401-41c7-ac91-442e794d3881",
   "metadata": {},
   "source": [
    "Q8. What do you understand about skewness in data?\n",
    "\n",
    "Skewness in data refers to the asymmetry or lack of symmetry in the distribution of values within a dataset. \n",
    "It indicates the degree and direction of deviation from a symmetrical distribution. \n",
    "A symmetrical distribution has a similar shape on both sides of the center point (mean, median, or mode), \n",
    "while a skewed distribution is characterized by one tail that is longer or stretched out relative to the other.\n",
    "\n",
    "There are two main types of skewness:\n",
    "\n",
    "Positive skewness (right-skewed):\n",
    "\n",
    "In a positively skewed distribution, the tail on the right side of the distribution is longer or stretched out compared to the left side.\n",
    "The majority of the data points are concentrated on the left side of the distribution, with fewer data points extending further to the right.\n",
    "The mean of a positively skewed distribution is typically greater than the median, and the mode may be located at the left end of the distribution.\n",
    "\n",
    "Negative skewness (left-skewed):\n",
    "\n",
    "In a negatively skewed distribution, the tail on the left side of the distribution is longer or stretched out compared to the right side.\n",
    "The majority of the data points are concentrated on the right side of the distribution, with fewer data points extending further to the left.\n",
    "The mean of a negatively skewed distribution is typically less than the median, and the mode may be located at the right end of the distribution.\n",
    "\n",
    "Skewness is an important characteristic of a dataset as it provides insights into the shape and nature of the distribution.\n",
    "Understanding skewness helps in making informed decisions about data analysis and interpretation.\n",
    "For example, positively skewed data may require transformations such as logarithmic transformation to achieve symmetry before\n",
    "performing certain statistical analyses.\n",
    "Similarly, negative skewness may indicate the need for different analytical approaches or transformations to account for the asymmetry in the data.\n",
    "\n",
    "\n",
    "\n",
    "\n"
   ]
  },
  {
   "cell_type": "markdown",
   "id": "eea8f7d0-6d83-4847-a968-aba6ca5f437c",
   "metadata": {},
   "source": [
    "Q9. If a data is right skewed then what will be the position of median with respect to mean?\n",
    "\n",
    "In a right-skewed distribution position of median is right side of the mean.   \n",
    "(The mean is greater than the median.}\n"
   ]
  },
  {
   "cell_type": "code",
   "execution_count": null,
   "id": "15a69e9c-ca45-4a35-9636-c39bdf420861",
   "metadata": {},
   "outputs": [],
   "source": [
    "Q10. Explain the difference between covariance and correlation. How are these measures used in\n",
    "statistical analysis?\n",
    "\n",
    "Covariance indicates the linear relationship between variables,\n",
    "whereas correlation measures the direction and strength of the linear relationship between variables.\n",
    "Using these you can quantify the relationship between variables and then use these to select, add, or remove the variable.\n",
    "\n",
    "\n",
    "In statistical analysis, covariance and correlation are used for various purposes:\n",
    "\n",
    "Understanding relationships:\n",
    "Both covariance and correlation help in understanding how two variables change together.\n",
    "They are used to analyze the strength and direction of the relationship between variables.\n",
    "\n",
    "Predictive modeling: Correlation is particularly useful in predictive modeling to identify which variables are strongly related to the target variable. \n",
    "Variables with high correlation to the target variable are often considered important predictors in regression models.\n",
    "\n",
    "Portfolio management: In finance, covariance and correlation are used to analyze the relationship between different assets in a portfolio.\n",
    "A high positive correlation between assets suggests that they move together, while a negative correlation indicates they move in opposite directions, \n",
    "which can help in diversifying risk.\n",
    "\n",
    "Data preprocessing: Covariance and correlation are also used in data preprocessing steps to identify redundant variables \n",
    "or to assess multicollinearity in regression analysis."
   ]
  },
  {
   "cell_type": "code",
   "execution_count": 10,
   "id": "43753db3-c963-4153-b6af-7b185fb8cdef",
   "metadata": {},
   "outputs": [
    {
     "name": "stdout",
     "output_type": "stream",
     "text": [
      "Mean = 35.833333333333336\n"
     ]
    }
   ],
   "source": [
    "'''\n",
    "Q11. What is the formula for calculating the sample mean? Provide an example calculation for a\n",
    "dataset.\n",
    "Sample mean is denoted by x bar .\n",
    "Formula for sample mean =  (x bar)= (sum of all obsevation in sample dataset)/ (Total no of obsevation).\n",
    "\n",
    "  eg.\n",
    "Suppose we have data of a locality where ages are provided now we have to calc mean ,median ,mode of that dataset.\n",
    "Age = [12,21,33,45,67,45,67,82,12,5,34,22,36]\n",
    "'''\n",
    "Age = [56,21,33,45,67,45,6,82,12,5,22,36]\n",
    "\n",
    "import numpy as np\n",
    "m=np.mean(Age)\n",
    "print(\"Mean =\",m)"
   ]
  },
  {
   "cell_type": "code",
   "execution_count": null,
   "id": "190b010a-aada-43c2-8206-34495279bab4",
   "metadata": {},
   "outputs": [],
   "source": [
    "Q12. For a normal distribution data what is the relationship between its measure of central tendency?\n",
    "\n",
    "For a normal distribution relationship btw its central tendency is , Mean = Median = Mode.\n"
   ]
  },
  {
   "cell_type": "code",
   "execution_count": null,
   "id": "e5dbf52a-e3ca-4176-9ef5-e8fedd119ae3",
   "metadata": {},
   "outputs": [],
   "source": [
    "Q13. How is covariance different from correlation?\n",
    "\n",
    "Covariance and correlation are both statistical measures that indicate the relationship and dependency between two variables.\n",
    "Covariance indicates the direction of the linear relationship between variables, \n",
    "while correlation measures both the strength and direction of the linear relationship between two variables. \n",
    "Correlation is a function of the covariance.\n",
    "Unlike correlation, covariance does not provide a standardized measure and is affected by the scale of the variables."
   ]
  },
  {
   "cell_type": "code",
   "execution_count": 12,
   "id": "20297c97-d269-4b82-956b-8a1f229b8a5e",
   "metadata": {},
   "outputs": [
    {
     "name": "stdout",
     "output_type": "stream",
     "text": [
      "Mean = 130.45454545454547\n",
      "Median = 42.0\n",
      "Mode = ModeResult(mode=array([30]), count=array([1]))\n"
     ]
    },
    {
     "name": "stderr",
     "output_type": "stream",
     "text": [
      "/tmp/ipykernel_126/2005595930.py:22: FutureWarning: Unlike other reduction functions (e.g. `skew`, `kurtosis`), the default behavior of `mode` typically preserves the axis it acts along. In SciPy 1.11.0, this behavior will change: the default value of `keepdims` will become False, the `axis` over which the statistic is taken will be eliminated, and the value None will no longer be accepted. Set `keepdims` to True or False to avoid this warning.\n",
      "  p=stats.mode(sal)\n"
     ]
    }
   ],
   "source": [
    "'''\n",
    "Q14. How do outliers affect measures of central tendency and dispersion? Provide an example.\n",
    "\n",
    "When a outlier is present it can effect the shape of the graph, if we have outliers to the right of the graph.\n",
    "These outliers are causing the mean to increase, but if we have outliers to the left of the graph these outliers are dragging down the mean.\n",
    "This causes a conflict because the mean no longer provides a good representation of the data, alternatively we would much rather use the median.\n",
    "The median on the other hand is less likely to be affect by outliers.\n",
    "\n",
    "Example:\n",
    "Consider a dataset representing the salaries (in thousands of dollars) of employees in a company:\n",
    "{30,32,35,36,40,42,45,50,60,65,1000}\n",
    "\n",
    "\"here let 1000  be an outlier\"\n",
    "'''\n",
    "sal = [30,32,35,36,40,42,45,50,60,65,1000]\n",
    "import numpy as np\n",
    "from scipy import stats\n",
    "m=np.mean(sal)\n",
    "print(\"Mean =\",m)\n",
    "n=np.median(sal)\n",
    "print(\"Median =\",n)\n",
    "p=stats.mode(sal)\n",
    "print(\"Mode =\",p)"
   ]
  },
  {
   "cell_type": "code",
   "execution_count": 13,
   "id": "07bed3f9-1c87-433b-bae4-1d826fd420d3",
   "metadata": {},
   "outputs": [
    {
     "name": "stdout",
     "output_type": "stream",
     "text": [
      "Mean = 43.5\n",
      "Median = 41.0\n",
      "Mode = ModeResult(mode=array([30]), count=array([1]))\n"
     ]
    },
    {
     "name": "stderr",
     "output_type": "stream",
     "text": [
      "/tmp/ipykernel_126/3294618951.py:9: FutureWarning: Unlike other reduction functions (e.g. `skew`, `kurtosis`), the default behavior of `mode` typically preserves the axis it acts along. In SciPy 1.11.0, this behavior will change: the default value of `keepdims` will become False, the `axis` over which the statistic is taken will be eliminated, and the value None will no longer be accepted. Set `keepdims` to True or False to avoid this warning.\n",
      "  p=stats.mode(sal)\n"
     ]
    }
   ],
   "source": [
    "# if we remove outlier then calc for same \n",
    "sal = [30,32,35,36,40,42,45,50,60,65]\n",
    "import numpy as np\n",
    "from scipy import stats\n",
    "m=np.mean(sal)\n",
    "print(\"Mean =\",m)\n",
    "n=np.median(sal)\n",
    "print(\"Median =\",n)\n",
    "p=stats.mode(sal)\n",
    "print(\"Mode =\",p)"
   ]
  },
  {
   "cell_type": "markdown",
   "id": "d5660563-f7da-494a-bbfb-04f5817afec1",
   "metadata": {},
   "source": [
    "by means of this example we can easily identify how outlier affect the mean of the dataset."
   ]
  }
 ],
 "metadata": {
  "kernelspec": {
   "display_name": "Python 3 (ipykernel)",
   "language": "python",
   "name": "python3"
  },
  "language_info": {
   "codemirror_mode": {
    "name": "ipython",
    "version": 3
   },
   "file_extension": ".py",
   "mimetype": "text/x-python",
   "name": "python",
   "nbconvert_exporter": "python",
   "pygments_lexer": "ipython3",
   "version": "3.10.8"
  }
 },
 "nbformat": 4,
 "nbformat_minor": 5
}
